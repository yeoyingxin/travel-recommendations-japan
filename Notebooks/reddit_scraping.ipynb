{
 "cells": [
  {
   "cell_type": "markdown",
   "id": "05544d9d",
   "metadata": {},
   "source": [
    "https://praw.readthedocs.io/en/stable/"
   ]
  },
  {
   "cell_type": "code",
   "execution_count": 1,
   "id": "50e86cea",
   "metadata": {},
   "outputs": [],
   "source": [
    "import praw\n",
    "import os\n",
    "from dotenv import load_dotenv\n",
    "import pandas as pd"
   ]
  },
  {
   "cell_type": "code",
   "execution_count": 2,
   "id": "8857b34d",
   "metadata": {},
   "outputs": [],
   "source": [
    "load_dotenv()\n",
    "\n",
    "CLIENT_ID = os.getenv(\"CLIENT_ID\")\n",
    "CLIENT_SECRET = os.getenv(\"CLIENT_SECRET\")"
   ]
  },
  {
   "cell_type": "code",
   "execution_count": 3,
   "id": "ab8521ce",
   "metadata": {},
   "outputs": [],
   "source": [
    "reddit = praw.Reddit(\n",
    "    client_id=CLIENT_ID,\n",
    "    client_secret=CLIENT_SECRET,\n",
    "    user_agent=\"japan_travel_scraper\",\n",
    ")\n",
    "\n",
    "subreddit = reddit.subreddit(\"JapanTravel\")"
   ]
  },
  {
   "cell_type": "code",
   "execution_count": 4,
   "id": "6c30a83c",
   "metadata": {},
   "outputs": [
    {
     "name": "stdout",
     "output_type": "stream",
     "text": [
      "True\n"
     ]
    }
   ],
   "source": [
    "print(reddit.read_only)\n",
    "# Output: True"
   ]
  },
  {
   "cell_type": "code",
   "execution_count": 5,
   "id": "3787cc4e",
   "metadata": {},
   "outputs": [],
   "source": [
    "posts = []\n",
    "for post in subreddit.top(limit=700):  # or .new, .hot\n",
    "    posts.append({\n",
    "        \"title\": post.title,\n",
    "        \"selftext\": post.selftext,\n",
    "        \"id\": post.id,\n",
    "        \"url\": post.url,\n",
    "        \"score\": post.score\n",
    "    })"
   ]
  },
  {
   "cell_type": "code",
   "execution_count": 14,
   "id": "623efcb0",
   "metadata": {},
   "outputs": [],
   "source": [
    "# Sampling Strategy\n",
    "def fetch_posts(limit=100):  # limit per category\n",
    "    posts = []\n",
    "\n",
    "    # Top posts (all-time, year, month)\n",
    "    for time_filter in [\"all\", \"year\", \"month\"]:\n",
    "        for post in subreddit.top(time_filter=time_filter, limit=limit):\n",
    "            posts.append(post)\n",
    "\n",
    "    # New posts\n",
    "    for post in subreddit.new(limit=limit):\n",
    "        posts.append(post)\n",
    "\n",
    "    # Hot posts\n",
    "    for post in subreddit.hot(limit=limit* 2):\n",
    "        posts.append(post)\n",
    "\n",
    "    return posts\n",
    "\n",
    "\n",
    "# Extract posts + top-level comments\n",
    "def process_posts(posts, max_comments=5):\n",
    "    rows = []\n",
    "    seen_ids = set()\n",
    "    bad_link = \"https://www.reddit.com/r/JapanTravel/wiki/faqs/japantravel\"\n",
    "\n",
    "    for post in posts:\n",
    "        if post.id in seen_ids:\n",
    "            continue\n",
    "        seen_ids.add(post.id)\n",
    "\n",
    "        post.comments.replace_more(limit=0)  # remove \"load more comments\"\n",
    "        comments = [c.body for c in post.comments[:max_comments] \n",
    "                    if bad_link not in c.body]\n",
    "        dct = {\n",
    "            \"id\": post.id,\n",
    "            \"title\": post.title,\n",
    "            \"selftext\": post.selftext,\n",
    "            \"score\": post.score,\n",
    "            \"num_comments\": post.num_comments,\n",
    "            \"url\": post.url,\n",
    "            \"created_utc\": post.created_utc \n",
    "        }\n",
    "        # Pad comments list with \"\" if fewer than max_comments\n",
    "        comments = comments + [\"\"] * (max_comments - len(comments))\n",
    "\n",
    "        # Add comment1 to comment5\n",
    "        for i in range(max_comments):\n",
    "            dct[f\"comment{i+1}\"] = comments[i]\n",
    "        rows.append(dct)\n",
    "\n",
    "    return pd.DataFrame(rows)\n",
    "\n",
    "\n",
    "# Run the pipeline \n",
    "posts = fetch_posts(limit=100)   # ~400-500 posts total with comments\n",
    "df = process_posts(posts, max_comments=5)\n"
   ]
  },
  {
   "cell_type": "code",
   "execution_count": 20,
   "id": "58bddb14",
   "metadata": {},
   "outputs": [],
   "source": [
    "df = df[['id', 'title', 'selftext', 'url', \n",
    "         'comment1', 'comment2', 'comment3', 'comment4', 'comment5']].astype(str)"
   ]
  },
  {
   "cell_type": "code",
   "execution_count": null,
   "id": "f933e450",
   "metadata": {},
   "outputs": [
    {
     "name": "stdout",
     "output_type": "stream",
     "text": [
      "        id                                              title  \\\n",
      "0  1koo697  Last night in Kyoto, I joined a Japanese famil...   \n",
      "1   88fds7  Such a long shot but emergency passport favor ...   \n",
      "2  1ia388w              MISSING DISABLED USA CITIZEN IN TOKYO   \n",
      "3  1d9o4y1  I accidentally bought a $1300 bottle of wine i...   \n",
      "4  17y4i6q  I just went into a taxi in Morioka and told th...   \n",
      "\n",
      "                                            selftext  \\\n",
      "0  Last night my wife was tired of walking all da...   \n",
      "1  Hello,  being a complete idiot I left my passp...   \n",
      "2  On January 25, 2025. my mentally disabled  unc...   \n",
      "3  We were in Japan for 30 days and had a few big...   \n",
      "4  TL;DR at the bottom.\\n\\nFor those who don't kn...   \n",
      "\n",
      "                                                 url  \\\n",
      "0  https://www.reddit.com/r/JapanTravel/comments/...   \n",
      "1  https://www.reddit.com/r/JapanTravel/comments/...   \n",
      "2  https://www.reddit.com/r/JapanTravel/comments/...   \n",
      "3  https://www.reddit.com/r/JapanTravel/comments/...   \n",
      "4  https://www.reddit.com/r/JapanTravel/comments/...   \n",
      "\n",
      "                                            comment1  \\\n",
      "0                      That’s the essence of travel.   \n",
      "1  This is probably the most uneventful part of t...   \n",
      "2  \\n**Please carefully read the removal reason b...   \n",
      "3  Reading this while i go on yakitori in Ameyoko...   \n",
      "4  This is great, though only advisable in smalle...   \n",
      "\n",
      "                                            comment2  \\\n",
      "0                                      Mizu to gohan   \n",
      "1  What hotel. I’m in Osaka with nothing to do to...   \n",
      "2  OP’s other post (on another Japan Travel subre...   \n",
      "3  At least it seems like the place comped you an...   \n",
      "4                                          [deleted]   \n",
      "\n",
      "                                            comment3  \\\n",
      "0  My wife and I walked into a random bar in Gold...   \n",
      "1                Ze Documents have been delivered!!!   \n",
      "2   he has been found based on another post:\\n\\n\\...   \n",
      "3                 Damn that was the real strong zero   \n",
      "4  Damn i thought i was in japan circle jerk for ...   \n",
      "\n",
      "                                            comment4  \\\n",
      "0  That sounds so pleasant! I’m glad you had that...   \n",
      "1  Alright redditors, the adventure begins. I’m o...   \n",
      "2  I hope you are able to find hin quickly. I hav...   \n",
      "3  > bring the receipt to show them the kindness ...   \n",
      "4  You did the gaijin smash. No one just says “om...   \n",
      "\n",
      "                                            comment5  \n",
      "0                                                     \n",
      "1                           On the way for real now!  \n",
      "2  Put this note up on X, Facebook and in other r...  \n",
      "3                                                     \n",
      "4                                                     \n",
      "Total unique posts collected: 445\n"
     ]
    }
   ],
   "source": [
    "print(df.head())\n",
    "print(f\"Total unique posts collected: {len(df)}\")\n",
    "\n",
    "# Save to CSV\n",
    "df.to_csv(\"../data/japantravel_posts_with_comments.csv\", index=False)"
   ]
  }
 ],
 "metadata": {
  "kernelspec": {
   "display_name": "venv (3.10.0)",
   "language": "python",
   "name": "python3"
  },
  "language_info": {
   "codemirror_mode": {
    "name": "ipython",
    "version": 3
   },
   "file_extension": ".py",
   "mimetype": "text/x-python",
   "name": "python",
   "nbconvert_exporter": "python",
   "pygments_lexer": "ipython3",
   "version": "3.10.0"
  }
 },
 "nbformat": 4,
 "nbformat_minor": 5
}
