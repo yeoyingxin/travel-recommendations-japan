{
 "cells": [
  {
   "cell_type": "code",
   "execution_count": null,
   "id": "43917c25",
   "metadata": {},
   "outputs": [],
   "source": [
    "import polars as pl\n",
    "from dotenv import load_dotenv\n",
    "from openai import OpenAI\n",
    "import os\n",
    "\n",
    "import numpy as np"
   ]
  },
  {
   "cell_type": "code",
   "execution_count": null,
   "id": "de9f6c51",
   "metadata": {},
   "outputs": [],
   "source": [
    "# initialise gpt\n",
    "load_dotenv()  # loads from .env\n",
    "\n",
    "client = OpenAI()"
   ]
  },
  {
   "cell_type": "code",
   "execution_count": null,
   "id": "7735ee69",
   "metadata": {},
   "outputs": [],
   "source": [
    "df = pl.read_csv(\"../data/japantravel_posts_with_comments.csv\")"
   ]
  },
  {
   "cell_type": "code",
   "execution_count": 61,
   "id": "91c2c4bc",
   "metadata": {},
   "outputs": [],
   "source": [
    "df = df.with_columns(pl.col('selftext').fill_null(''),\n",
    "                     pl.col('comment1').fill_null(''),\n",
    "                     pl.col('comment2').fill_null(''),\n",
    "                     pl.col('comment3').fill_null(''),\n",
    "                     pl.col('comment4').fill_null(''),\n",
    "                     pl.col('comment5').fill_null(''))\n",
    "df = df.with_columns(\n",
    "    (\n",
    "        \"Comment 1: \" + pl.col(\"comment1\") + \"\\n\" +\n",
    "        \"Comment 2: \" + pl.col(\"comment2\") + \"\\n\" +\n",
    "        \"Comment 3: \" + pl.col(\"comment3\") + \"\\n\" +\n",
    "        \"Comment 4: \" + pl.col(\"comment4\") + \"\\n\" +\n",
    "        \"Comment 5: \" + pl.col(\"comment5\")\n",
    "    ).alias(\"comments_combined\")\n",
    "    ).drop([\"comment1\", \"comment2\", \"comment3\", \"comment4\", \"comment5\"])\n"
   ]
  },
  {
   "cell_type": "code",
   "execution_count": 62,
   "id": "03b64c98",
   "metadata": {},
   "outputs": [],
   "source": [
    "documents = df.to_dicts()"
   ]
  },
  {
   "cell_type": "code",
   "execution_count": 83,
   "id": "dd849674",
   "metadata": {},
   "outputs": [],
   "source": [
    "prompt_template = \"\"\"\n",
    "You are planning a trip to Japan. \n",
    "Formulate 5 questions and its answer related to planning a Japan trip based on the travel recommendation database. \n",
    "The record should contain the answer to the questions and the questions should be complete and not too short. \n",
    "If possible, use as few words as possible from the record.\n",
    "\n",
    "Record:\n",
    "Title: {title}\n",
    "Content: {selftext}\n",
    "Comments: {comments_combined}\n",
    "\n",
    "Provide the output strictly in JSON format as a list of dictionaries, \n",
    "where each object has the fields \"question\" and \"answer\", like this:\n",
    "\n",
    "[\n",
    "  {{\"question\": \"example question 1\", \"answer\": \"example answer 1\"}},\n",
    "  {{\"question\": \"example question 2\", \"answer\": \"example answer 2\"}},\n",
    "  ...\n",
    "]\n",
    "\"\"\""
   ]
  },
  {
   "cell_type": "code",
   "execution_count": 12,
   "id": "4f02781b",
   "metadata": {},
   "outputs": [],
   "source": [
    "def generate_questions(doc):\n",
    "    \n",
    "    prompt = prompt_template.format(**doc)\n",
    "\n",
    "    response = client.chat.completions.create(\n",
    "        model='gpt-4o-mini',\n",
    "        messages=[{\"role\": \"user\", \"content\": prompt}]\n",
    "    )\n",
    "    return response.choices[0].message.content\n",
    "\n"
   ]
  },
  {
   "cell_type": "code",
   "execution_count": 93,
   "id": "c45b4c23",
   "metadata": {},
   "outputs": [
    {
     "data": {
      "application/vnd.jupyter.widget-view+json": {
       "model_id": "9753947654d64dd29fb1e9b4a08ff4e4",
       "version_major": 2,
       "version_minor": 0
      },
      "text/plain": [
       "  0%|          | 0/445 [00:00<?, ?it/s]"
      ]
     },
     "metadata": {},
     "output_type": "display_data"
    }
   ],
   "source": [
    "from tqdm.notebook import tqdm\n",
    "\n",
    "results = {}\n",
    "\n",
    "for doc in tqdm(documents):\n",
    "    doc_id = doc['id']\n",
    "    prompt = prompt_template.format(**doc)\n",
    "    results[doc_id] = generate_questions(doc)"
   ]
  },
  {
   "cell_type": "code",
   "execution_count": 107,
   "id": "01f21f45",
   "metadata": {},
   "outputs": [],
   "source": [
    "import re\n",
    "import json\n",
    "from json_repair import repair_json\n",
    "\n",
    "def robust_json_loads(text: str):\n",
    "    \"\"\"\n",
    "    Safely load JSON. Tries normal json.loads first,\n",
    "    and if it fails, attempts auto-repair with json-repair.\n",
    "    \"\"\"\n",
    "    try:\n",
    "        return json.loads(text)\n",
    "    except json.JSONDecodeError:\n",
    "        repaired = repair_json(text)\n",
    "        return json.loads(repaired)\n",
    "    \n",
    "parsed_results = {}\n",
    "for doc_id, questions in results.items():\n",
    "    raw_text = questions\n",
    "    clean_text = re.sub(r\"```json|```\", \"\", raw_text).strip()\n",
    "    parsed_json = robust_json_loads(clean_text)\n",
    "    parsed_results[doc_id] = parsed_json\n"
   ]
  },
  {
   "cell_type": "code",
   "execution_count": 113,
   "id": "42e35aef",
   "metadata": {},
   "outputs": [],
   "source": [
    "final_results_list = []\n",
    "final_results = []\n",
    "for doc_id, recommendations in parsed_results.items():\n",
    "    for r in recommendations:\n",
    "        final_results_list.append((r['question'], r['answer'], doc_id))\n",
    "        final_results.append({'id':doc_id,\n",
    "                              'question':r['question'],\n",
    "                              'answer':r['answer']})"
   ]
  },
  {
   "cell_type": "code",
   "execution_count": null,
   "id": "3783f570",
   "metadata": {},
   "outputs": [],
   "source": [
    "df_ground_truth = pl.DataFrame(final_results)\n",
    "df_ground_truth.write_csv('../data/ground_truth.csv') "
   ]
  }
 ],
 "metadata": {
  "kernelspec": {
   "display_name": "venv (3.10.0)",
   "language": "python",
   "name": "python3"
  },
  "language_info": {
   "codemirror_mode": {
    "name": "ipython",
    "version": 3
   },
   "file_extension": ".py",
   "mimetype": "text/x-python",
   "name": "python",
   "nbconvert_exporter": "python",
   "pygments_lexer": "ipython3",
   "version": "3.10.0"
  }
 },
 "nbformat": 4,
 "nbformat_minor": 5
}
